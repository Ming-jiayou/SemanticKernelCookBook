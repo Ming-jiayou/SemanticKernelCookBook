{
 "cells": [
  {
   "cell_type": "code",
   "execution_count": 1,
   "metadata": {},
   "outputs": [],
   "source": [
    "import os\n",
    "import sys\n",
    "\n",
    "import semantic_kernel as sk"
   ]
  },
  {
   "cell_type": "code",
   "execution_count": 2,
   "metadata": {},
   "outputs": [],
   "source": [
    "\n",
    "kernel = sk.Kernel()"
   ]
  },
  {
   "cell_type": "code",
   "execution_count": 3,
   "metadata": {},
   "outputs": [],
   "source": [
    "import semantic_kernel.connectors.ai.open_ai as skaoai"
   ]
  },
  {
   "cell_type": "code",
   "execution_count": 4,
   "metadata": {},
   "outputs": [
    {
     "data": {
      "text/plain": [
       "<semantic_kernel.kernel.Kernel at 0x115cde620>"
      ]
     },
     "execution_count": 4,
     "metadata": {},
     "output_type": "execute_result"
    }
   ],
   "source": [
    "deployment, api_key, endpoint = sk.azure_openai_settings_from_dot_env()\n",
    "kernel.add_chat_service(\"azure_chat_competion_service\", skaoai.AzureChatCompletion(\"GPT3TurboModel\",endpoint,api_key=api_key,api_version = \"2023-07-01-preview\"))"
   ]
  },
  {
   "cell_type": "code",
   "execution_count": 5,
   "metadata": {},
   "outputs": [],
   "source": [
    "from semantic_kernel.planning.basic_planner import BasicPlanner\n",
    "planner = BasicPlanner()"
   ]
  },
  {
   "cell_type": "code",
   "execution_count": 6,
   "metadata": {},
   "outputs": [],
   "source": [
    "base_skills_directory = '../../plugins'"
   ]
  },
  {
   "cell_type": "code",
   "execution_count": 7,
   "metadata": {},
   "outputs": [],
   "source": [
    "custom_plugin = kernel.import_native_skill_from_directory(base_skills_directory , \"APIPlugin\")\n",
    "writer_plugin = kernel.import_semantic_skill_from_directory(base_skills_directory, \"WriterPlugin\")\n",
    "email_plugin = kernel.import_semantic_skill_from_directory(base_skills_directory, \"EmailPlugin\")\n",
    "translate_plugin = kernel.import_semantic_skill_from_directory(base_skills_directory, \"TranslatePlugin\")"
   ]
  },
  {
   "cell_type": "code",
   "execution_count": 8,
   "metadata": {},
   "outputs": [],
   "source": [
    "ask = \"\"\"\n",
    "Check the weather in Guangzhou and generate dressing tips based on the results and write them as travel weather reminder emails ，translate the results into spanish\n",
    "\"\"\"\n",
    "original_plan = await planner.create_plan_async(ask, kernel)"
   ]
  },
  {
   "cell_type": "code",
   "execution_count": 9,
   "metadata": {},
   "outputs": [
    {
     "name": "stdout",
     "output_type": "stream",
     "text": [
      "    {\n",
      "        \"input\": \"Guangzhou Weather\",\n",
      "        \"subtasks\": [\n",
      "            {\"function\": \"APIPlugin.WeatherFunction\", \"args\": {\"city\": \"Guangzhou\"}},\n",
      "            {\"function\": \"WriterPlugin.Classification\", \"args\": {\"input\": \"dressing tips\"}},\n",
      "            {\"function\": \"EmailPlugin.WeatherMail\"},\n",
      "            {\"function\": \"TranslatePlugin.MultiLanguage\", \"args\": {\"language\": \"Spanish\"}}\n",
      "        ]\n",
      "    }\n"
     ]
    }
   ],
   "source": [
    "print(original_plan.generated_plan)"
   ]
  },
  {
   "cell_type": "code",
   "execution_count": 10,
   "metadata": {},
   "outputs": [
    {
     "data": {
      "text/plain": [
       "'Tema: Consejos de vestimenta para viajar\\n\\nEstimados colegas,\\n\\nSegún el último pronóstico del tiempo, nos enfrentaremos a algunos cambios en el clima en los próximos días. Para asegurar nuestro viaje sea cómodo y seguro, me gustaría darles algunos consejos sobre qué ropa llevar.\\n\\nSe espera lluvia para mañana, así que recuerden llevar un paraguas y usar un abrigo impermeable. El jueves y viernes el clima se enfriará, así que preparen un abrigo o suéter abrigado. Se espera un clima despejado para el fin de semana, pero la temperatura podría bajar, así que recuerden llevar un abrigo ligero.\\n\\nAdemás, debido a los grandes cambios en el clima, por favor estén atentos a las condiciones de viaje y ajusten su vestimenta según sea necesario. Si hay alguna situación de emergencia, por favor contáctennos de inmediato, haremos todo lo posible para ayudar.\\n\\n¡Espero que tengan un viaje agradable, gracias!\\n\\nSaludos,\\n\\n[Tu nombre]'"
      ]
     },
     "execution_count": 10,
     "metadata": {},
     "output_type": "execute_result"
    }
   ],
   "source": [
    "await planner.execute_plan_async(original_plan, kernel)"
   ]
  }
 ],
 "metadata": {
  "kernelspec": {
   "display_name": "pydev",
   "language": "python",
   "name": "python3"
  },
  "language_info": {
   "codemirror_mode": {
    "name": "ipython",
    "version": 3
   },
   "file_extension": ".py",
   "mimetype": "text/x-python",
   "name": "python",
   "nbconvert_exporter": "python",
   "pygments_lexer": "ipython3",
   "version": "3.10.12"
  },
  "orig_nbformat": 4
 },
 "nbformat": 4,
 "nbformat_minor": 2
}
