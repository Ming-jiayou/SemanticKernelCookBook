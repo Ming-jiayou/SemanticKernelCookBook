{
 "cells": [
  {
   "cell_type": "code",
   "execution_count": 1,
   "metadata": {
    "dotnet_interactive": {
     "language": "csharp"
    },
    "polyglot_notebook": {
     "kernelName": "csharp"
    },
    "vscode": {
     "languageId": "polyglot-notebook"
    }
   },
   "outputs": [
    {
     "data": {
      "text/html": [
       "<div><div></div><div></div><div><strong>Installed Packages</strong><ul><li><span>Microsoft.SemanticKernel, 1.0.0-rc4</span></li><li><span>Microsoft.SemanticKernel.Planners.Handlebars, 1.0.0-rc4</span></li></ul></div></div>"
      ]
     },
     "metadata": {},
     "output_type": "display_data"
    }
   ],
   "source": [
    "#r \"nuget: Microsoft.SemanticKernel, *-*\"\n",
    "#r \"nuget: Microsoft.SemanticKernel.Planners.Handlebars, *-*\""
   ]
  },
  {
   "cell_type": "code",
   "execution_count": 2,
   "metadata": {
    "dotnet_interactive": {
     "language": "csharp"
    },
    "polyglot_notebook": {
     "kernelName": "csharp"
    },
    "vscode": {
     "languageId": "polyglot-notebook"
    }
   },
   "outputs": [],
   "source": [
    "using Microsoft.SemanticKernel;\n",
    "using Microsoft.SemanticKernel.Memory;\n",
    "using Microsoft.SemanticKernel.Connectors.OpenAI;\n",
    "using Microsoft.SemanticKernel.Planning;\n"
   ]
  },
  {
   "cell_type": "code",
   "execution_count": 3,
   "metadata": {
    "dotnet_interactive": {
     "language": "csharp"
    },
    "polyglot_notebook": {
     "kernelName": "csharp"
    },
    "vscode": {
     "languageId": "polyglot-notebook"
    }
   },
   "outputs": [],
   "source": [
    "#!import ../../Plugins/CustomPlugin/CompanySearchPlugin.cs"
   ]
  },
  {
   "cell_type": "code",
   "execution_count": 4,
   "metadata": {
    "dotnet_interactive": {
     "language": "csharp"
    },
    "polyglot_notebook": {
     "kernelName": "csharp"
    },
    "vscode": {
     "languageId": "polyglot-notebook"
    }
   },
   "outputs": [],
   "source": [
    "using System;\n",
    "using System.Collections.Generic;\n",
    "using System.Diagnostics;\n",
    "using System.IO;\n",
    "using System.Net.Http;\n",
    "using System.Text.Json;\n",
    "using System.Threading.Tasks;"
   ]
  },
  {
   "cell_type": "code",
   "execution_count": 5,
   "metadata": {
    "dotnet_interactive": {
     "language": "csharp"
    },
    "polyglot_notebook": {
     "kernelName": "csharp"
    },
    "vscode": {
     "languageId": "polyglot-notebook"
    }
   },
   "outputs": [],
   "source": [
    "Kernel kernel = Kernel.CreateBuilder()\n",
    "            .AddAzureOpenAIChatCompletion(\"Your Azure OpenAI Service Deployment Name\" , \"Your Azure OpenAI Service Endpoint\", \"Your Azure OpenAI Service API Key\")\n",
    "            .Build();"
   ]
  },
  {
   "cell_type": "code",
   "execution_count": 6,
   "metadata": {
    "dotnet_interactive": {
     "language": "csharp"
    },
    "polyglot_notebook": {
     "kernelName": "csharp"
    },
    "vscode": {
     "languageId": "polyglot-notebook"
    }
   },
   "outputs": [],
   "source": [
    "var companySearchPluginObj = new CompanySearchPlugin();\n",
    "var companySearchPlugin = kernel.ImportPluginFromObject(companySearchPluginObj, \"CompanySearchPlugin\");"
   ]
  },
  {
   "cell_type": "code",
   "execution_count": 7,
   "metadata": {
    "dotnet_interactive": {
     "language": "csharp"
    },
    "polyglot_notebook": {
     "kernelName": "csharp"
    },
    "vscode": {
     "languageId": "polyglot-notebook"
    }
   },
   "outputs": [],
   "source": [
    "var pluginDirectory = Path.Combine(\"../..\", \"plugins\");"
   ]
  },
  {
   "cell_type": "code",
   "execution_count": 8,
   "metadata": {
    "dotnet_interactive": {
     "language": "csharp"
    },
    "polyglot_notebook": {
     "kernelName": "csharp"
    },
    "vscode": {
     "languageId": "polyglot-notebook"
    }
   },
   "outputs": [],
   "source": [
    "var writetPlugin =  kernel.ImportPluginFromPromptDirectory(Path.Combine(pluginDirectory, \"WriterPlugin\"));\n",
    "var emailPlugin =  kernel.ImportPluginFromPromptDirectory(Path.Combine(pluginDirectory, \"EmailPlugin\"));\n",
    "var translatePlugin =  kernel.ImportPluginFromPromptDirectory(Path.Combine(pluginDirectory, \"TranslatePlugin\"));"
   ]
  },
  {
   "cell_type": "code",
   "execution_count": 9,
   "metadata": {
    "dotnet_interactive": {
     "language": "csharp"
    },
    "polyglot_notebook": {
     "kernelName": "csharp"
    },
    "vscode": {
     "languageId": "polyglot-notebook"
    }
   },
   "outputs": [],
   "source": [
    "string goal =  \"\"\"\n",
    "Check the weather in Guangzhou and generate dressing tips based on the results,  and write emails\n",
    "\"\"\";"
   ]
  },
  {
   "cell_type": "code",
   "execution_count": 10,
   "metadata": {
    "dotnet_interactive": {
     "language": "csharp"
    },
    "polyglot_notebook": {
     "kernelName": "csharp"
    },
    "vscode": {
     "languageId": "polyglot-notebook"
    }
   },
   "outputs": [],
   "source": [
    "using Microsoft.SemanticKernel.Planning.Handlebars;\n",
    "\n",
    "#pragma warning disable SKEXP0060\n",
    "\n",
    "var planner = new HandlebarsPlanner();"
   ]
  },
  {
   "cell_type": "code",
   "execution_count": 11,
   "metadata": {
    "dotnet_interactive": {
     "language": "csharp"
    },
    "polyglot_notebook": {
     "kernelName": "csharp"
    },
    "vscode": {
     "languageId": "polyglot-notebook"
    }
   },
   "outputs": [],
   "source": [
    "#pragma warning disable SKEXP0060\n",
    "\n",
    "var originalPlan = await planner.CreatePlanAsync(kernel, goal);"
   ]
  },
  {
   "cell_type": "code",
   "execution_count": 12,
   "metadata": {
    "dotnet_interactive": {
     "language": "csharp"
    },
    "polyglot_notebook": {
     "kernelName": "csharp"
    },
    "vscode": {
     "languageId": "polyglot-notebook"
    }
   },
   "outputs": [
    {
     "name": "stdout",
     "output_type": "stream",
     "text": [
      "{{!-- Step 1: Get weather information for Guangzhou --}}\n",
      "{{set \"weatherInfo\" (CompanySearchPlugin-WeatherSearch text=\"Guangzhou\")}}\n",
      "\n",
      "{{!-- Step 2: Generate dressing tips based on the weather information --}}\n",
      "{{set \"dressingTips\" (WriterPlugin-Tips input=(get \"weatherInfo\") language=\"en\")}}\n",
      "\n",
      "{{!-- Step 3: Write an email about the weather --}}\n",
      "{{set \"emailContent\" (EmailPlugin-WeatherMail input=(get \"weatherInfo\"))}}\n",
      "\n",
      "{{!-- Step 4: Print the final results --}}\n",
      "{{json (get \"emailContent\")}}\n"
     ]
    }
   ],
   "source": [
    "Console.WriteLine(originalPlan);"
   ]
  },
  {
   "cell_type": "code",
   "execution_count": 13,
   "metadata": {
    "dotnet_interactive": {
     "language": "csharp"
    },
    "polyglot_notebook": {
     "kernelName": "csharp"
    },
    "vscode": {
     "languageId": "polyglot-notebook"
    }
   },
   "outputs": [
    {
     "data": {
      "text/plain": [
       "{{!-- Step 1: Get weather information for Guangzhou --}}\n",
       "{{set \"weatherInfo\" (CompanySearchPlugin-WeatherSearch text=\"Guangzhou\")}}\n",
       "\n",
       "{{!-- Step 2: Generate dressing tips based on the weather information --}}\n",
       "{{set \"dressingTips\" (WriterPlugin-Tips input=(get \"weatherInfo\") language=\"en\")}}\n",
       "\n",
       "{{!-- Step 3: Write an email about the weather --}}\n",
       "{{set \"emailContent\" (EmailPlugin-WeatherMail input=(get \"weatherInfo\"))}}\n",
       "\n",
       "{{!-- Step 4: Print the final results --}}\n",
       "{{json (get \"emailContent\")}}"
      ]
     },
     "metadata": {},
     "output_type": "display_data"
    }
   ],
   "source": [
    "originalPlan.ToString()"
   ]
  },
  {
   "cell_type": "code",
   "execution_count": 14,
   "metadata": {
    "dotnet_interactive": {
     "language": "csharp"
    },
    "polyglot_notebook": {
     "kernelName": "csharp"
    },
    "vscode": {
     "languageId": "polyglot-notebook"
    }
   },
   "outputs": [],
   "source": [
    "#pragma warning disable SKEXP0060\n",
    "var originalPlanResult = await originalPlan.InvokeAsync(kernel, new KernelArguments());"
   ]
  },
  {
   "cell_type": "code",
   "execution_count": 15,
   "metadata": {
    "dotnet_interactive": {
     "language": "csharp"
    },
    "polyglot_notebook": {
     "kernelName": "csharp"
    },
    "vscode": {
     "languageId": "polyglot-notebook"
    }
   },
   "outputs": [
    {
     "name": "stdout",
     "output_type": "stream",
     "text": [
      "Dear colleague,\n",
      "\n",
      "I hope this email finds you well. I wanted to provide you with some information regarding the weather forecast for Guangzhou tomorrow.\n",
      "\n",
      "According to the latest updates, tomorrow's temperature is expected to be around 2 degrees Celsius. Additionally, it's going to be a rainy day, so please make sure to bring an umbrella or raincoat with you when heading out.\n",
      "\n",
      "Considering the low temperature, I would advise you to dress warmly by layering your clothing, such as wearing a sweater or jacket underneath your coat. Don't forget to wear a pair of comfortable shoes suitable for walking in wet conditions.\n",
      "\n",
      "Furthermore, I would like to remind you to stay updated on the current travel situation. Please pay attention to any potential weather-related delays or issues that may impact your commute. It's always a good idea to check for any transportation updates before leaving and be prepared for possible delays.\n",
      "\n",
      "In case there are any significant changes in the weather conditions or if there are any updates regarding the transportation services, I will inform you as soon as possible.\n",
      "\n",
      "If you have any further concerns or questions, please feel free to ask. Have a safe trip and stay warm!\n",
      "\n",
      "Best regards,\n",
      "\n",
      "[Your Name]\n"
     ]
    }
   ],
   "source": [
    "Console.WriteLine(originalPlanResult);"
   ]
  }
 ],
 "metadata": {
  "language_info": {
   "name": "python"
  }
 },
 "nbformat": 4,
 "nbformat_minor": 2
}
