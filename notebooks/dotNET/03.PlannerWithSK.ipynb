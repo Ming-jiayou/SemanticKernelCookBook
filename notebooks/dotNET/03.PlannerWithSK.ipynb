{
 "cells": [
  {
   "cell_type": "code",
   "execution_count": 1,
   "metadata": {
    "dotnet_interactive": {
     "language": "csharp"
    },
    "polyglot_notebook": {
     "kernelName": "csharp"
    },
    "vscode": {
     "languageId": "polyglot-notebook"
    }
   },
   "outputs": [
    {
     "data": {
      "text/html": [
       "<div><div></div><div></div><div><strong>Installed Packages</strong><ul><li><span>Microsoft.SemanticKernel, 1.0.1</span></li><li><span>Microsoft.SemanticKernel.Planners.Handlebars, 1.0.1-preview</span></li></ul></div></div>"
      ]
     },
     "metadata": {},
     "output_type": "display_data"
    }
   ],
   "source": [
    "#r \"nuget: Microsoft.SemanticKernel, *-*\"\n",
    "#r \"nuget: Microsoft.SemanticKernel.Planners.Handlebars, *-*\""
   ]
  },
  {
   "cell_type": "code",
   "execution_count": 2,
   "metadata": {
    "dotnet_interactive": {
     "language": "csharp"
    },
    "polyglot_notebook": {
     "kernelName": "csharp"
    },
    "vscode": {
     "languageId": "polyglot-notebook"
    }
   },
   "outputs": [],
   "source": [
    "using Microsoft.SemanticKernel;\n",
    "using Microsoft.SemanticKernel.Memory;\n",
    "using Microsoft.SemanticKernel.Connectors.OpenAI;\n",
    "using Microsoft.SemanticKernel.Planning;\n"
   ]
  },
  {
   "cell_type": "code",
   "execution_count": 3,
   "metadata": {
    "dotnet_interactive": {
     "language": "csharp"
    },
    "polyglot_notebook": {
     "kernelName": "csharp"
    },
    "vscode": {
     "languageId": "polyglot-notebook"
    }
   },
   "outputs": [],
   "source": [
    "#!import ../../Plugins/CustomPlugin/CompanySearchPlugin.cs"
   ]
  },
  {
   "cell_type": "code",
   "execution_count": 4,
   "metadata": {
    "dotnet_interactive": {
     "language": "csharp"
    },
    "polyglot_notebook": {
     "kernelName": "csharp"
    },
    "vscode": {
     "languageId": "polyglot-notebook"
    }
   },
   "outputs": [],
   "source": [
    "using System;\n",
    "using System.Collections.Generic;\n",
    "using System.Diagnostics;\n",
    "using System.IO;\n",
    "using System.Net.Http;\n",
    "using System.Text.Json;\n",
    "using System.Threading.Tasks;"
   ]
  },
  {
   "cell_type": "code",
   "execution_count": 5,
   "metadata": {
    "dotnet_interactive": {
     "language": "csharp"
    },
    "polyglot_notebook": {
     "kernelName": "csharp"
    },
    "vscode": {
     "languageId": "polyglot-notebook"
    }
   },
   "outputs": [],
   "source": [
    "Kernel kernel = Kernel.CreateBuilder()\n",
    "            .AddAzureOpenAIChatCompletion(\"Your Azure OpenAI Service Deployment Name\" , \"Your Azure OpenAI Service Endpoint\", \"Your Azure OpenAI Service API Key\")\n",
    "            .Build();"
   ]
  },
  {
   "cell_type": "code",
   "execution_count": 6,
   "metadata": {
    "dotnet_interactive": {
     "language": "csharp"
    },
    "polyglot_notebook": {
     "kernelName": "csharp"
    },
    "vscode": {
     "languageId": "polyglot-notebook"
    }
   },
   "outputs": [],
   "source": [
    "var companySearchPluginObj = new CompanySearchPlugin();\n",
    "var companySearchPlugin = kernel.ImportPluginFromObject(companySearchPluginObj, \"CompanySearchPlugin\");"
   ]
  },
  {
   "cell_type": "code",
   "execution_count": 7,
   "metadata": {
    "dotnet_interactive": {
     "language": "csharp"
    },
    "polyglot_notebook": {
     "kernelName": "csharp"
    },
    "vscode": {
     "languageId": "polyglot-notebook"
    }
   },
   "outputs": [],
   "source": [
    "var pluginDirectory = Path.Combine(\"../..\", \"plugins\");"
   ]
  },
  {
   "cell_type": "code",
   "execution_count": 8,
   "metadata": {
    "dotnet_interactive": {
     "language": "csharp"
    },
    "polyglot_notebook": {
     "kernelName": "csharp"
    },
    "vscode": {
     "languageId": "polyglot-notebook"
    }
   },
   "outputs": [],
   "source": [
    "var writetPlugin =  kernel.ImportPluginFromPromptDirectory(Path.Combine(pluginDirectory, \"WriterPlugin\"));\n",
    "var emailPlugin =  kernel.ImportPluginFromPromptDirectory(Path.Combine(pluginDirectory, \"EmailPlugin\"));\n",
    "var translatePlugin =  kernel.ImportPluginFromPromptDirectory(Path.Combine(pluginDirectory, \"TranslatePlugin\"));"
   ]
  },
  {
   "cell_type": "code",
   "execution_count": 9,
   "metadata": {
    "dotnet_interactive": {
     "language": "csharp"
    },
    "polyglot_notebook": {
     "kernelName": "csharp"
    },
    "vscode": {
     "languageId": "polyglot-notebook"
    }
   },
   "outputs": [],
   "source": [
    "string goal =  \"\"\"\n",
    "Check the weather in Guangzhou and generate dressing tips based on the results,  and write emails\n",
    "\"\"\";"
   ]
  },
  {
   "cell_type": "code",
   "execution_count": 10,
   "metadata": {
    "dotnet_interactive": {
     "language": "csharp"
    },
    "polyglot_notebook": {
     "kernelName": "csharp"
    },
    "vscode": {
     "languageId": "polyglot-notebook"
    }
   },
   "outputs": [],
   "source": [
    "using Microsoft.SemanticKernel.Planning.Handlebars;\n",
    "\n",
    "#pragma warning disable SKEXP0060\n",
    "\n",
    "var planner = new HandlebarsPlanner();"
   ]
  },
  {
   "cell_type": "code",
   "execution_count": 11,
   "metadata": {
    "dotnet_interactive": {
     "language": "csharp"
    },
    "polyglot_notebook": {
     "kernelName": "csharp"
    },
    "vscode": {
     "languageId": "polyglot-notebook"
    }
   },
   "outputs": [],
   "source": [
    "#pragma warning disable SKEXP0060\n",
    "\n",
    "var originalPlan = await planner.CreatePlanAsync(kernel, goal);"
   ]
  },
  {
   "cell_type": "code",
   "execution_count": 12,
   "metadata": {
    "dotnet_interactive": {
     "language": "csharp"
    },
    "polyglot_notebook": {
     "kernelName": "csharp"
    },
    "vscode": {
     "languageId": "polyglot-notebook"
    }
   },
   "outputs": [
    {
     "name": "stdout",
     "output_type": "stream",
     "text": [
      "{{!-- Step 1: Search the weather in Guangzhou --}}\n",
      "{{set \"weather\" (CompanySearchPlugin-WeatherSearch text=\"Guangzhou\")}}\n",
      "\n",
      "{{!-- Step 2: Generate dressing tips based on the weather --}}\n",
      "{{set \"tips\" (WriterPlugin-Tips input=weather language=\"en\")}}\n",
      "\n",
      "{{!-- Step 3: Write an email with the dressing tips --}}\n",
      "{{set \"email\" (EmailPlugin-WeatherMail input=tips)}}\n",
      "\n",
      "{{!-- Step 4: Print the email to the screen --}}\n",
      "{{json email}}\n"
     ]
    }
   ],
   "source": [
    "Console.WriteLine(originalPlan);"
   ]
  },
  {
   "cell_type": "code",
   "execution_count": 13,
   "metadata": {
    "dotnet_interactive": {
     "language": "csharp"
    },
    "polyglot_notebook": {
     "kernelName": "csharp"
    },
    "vscode": {
     "languageId": "polyglot-notebook"
    }
   },
   "outputs": [
    {
     "data": {
      "text/plain": [
       "{{!-- Step 1: Search the weather in Guangzhou --}}\n",
       "{{set \"weather\" (CompanySearchPlugin-WeatherSearch text=\"Guangzhou\")}}\n",
       "\n",
       "{{!-- Step 2: Generate dressing tips based on the weather --}}\n",
       "{{set \"tips\" (WriterPlugin-Tips input=weather language=\"en\")}}\n",
       "\n",
       "{{!-- Step 3: Write an email with the dressing tips --}}\n",
       "{{set \"email\" (EmailPlugin-WeatherMail input=tips)}}\n",
       "\n",
       "{{!-- Step 4: Print the email to the screen --}}\n",
       "{{json email}}"
      ]
     },
     "metadata": {},
     "output_type": "display_data"
    }
   ],
   "source": [
    "originalPlan.ToString()"
   ]
  },
  {
   "cell_type": "code",
   "execution_count": 14,
   "metadata": {
    "dotnet_interactive": {
     "language": "csharp"
    },
    "polyglot_notebook": {
     "kernelName": "csharp"
    },
    "vscode": {
     "languageId": "polyglot-notebook"
    }
   },
   "outputs": [],
   "source": [
    "#pragma warning disable SKEXP0060\n",
    "var originalPlanResult = await originalPlan.InvokeAsync(kernel, new KernelArguments());"
   ]
  },
  {
   "cell_type": "code",
   "execution_count": 15,
   "metadata": {
    "dotnet_interactive": {
     "language": "csharp"
    },
    "polyglot_notebook": {
     "kernelName": "csharp"
    },
    "vscode": {
     "languageId": "polyglot-notebook"
    }
   },
   "outputs": [
    {
     "name": "stdout",
     "output_type": "stream",
     "text": [
      "Subject: Dressing Tips for the Rainy Weather in Guangzhou\n",
      "\n",
      "Dear [Colleague's Name],\n",
      "\n",
      "I hope this email finds you well. I wanted to give you some dressing tips for the current weather conditions in Guangzhou, as it is currently 2 degrees Celsius and raining. It is important to dress appropriately to stay warm and comfortable during your commute.\n",
      "\n",
      "1. Choose a heavy coat: I recommend wearing a thick coat, such as a down jacket or a woolen coat. This will help to keep your body warm and protected from the cold rain.\n",
      "\n",
      "2. Layer your clothes: To provide extra insulation, wear a long-sleeved sweater or shirt under your top. This will help to trap heat and keep you warm.\n",
      "\n",
      "3. Wear long pants or thick skirts: Protect your legs from the cold by wearing long pants or thick skirts. This will help to maintain your body temperature and prevent any discomfort caused by the cold and rain.\n",
      "\n",
      "4. Don't forget your hat and gloves: Keep your head and hands warm by wearing a hat and gloves. These accessories are essential for retaining body heat and protecting your extremities from the cold weather.\n",
      "\n",
      "5. Waterproof shoes or boots: To keep your feet dry and prevent rainwater from seeping in, wear waterproof shoes or boots. This will ensure your feet stay warm and comfortable during your commute.\n",
      "\n",
      "Additionally, I would like to remind you to stay updated on the current travel conditions. As the weather can change quickly, it is always a good idea to check for any road closures, public transportation delays, or other travel advisories. Stay informed and adjust your plans accordingly to ensure a safe and smooth journey.\n",
      "\n",
      "If you have any questions or need further assistance, please feel free to reach out to me. Stay warm and dry!\n",
      "\n",
      "Best regards,\n",
      "\n",
      "[Your Name]\n"
     ]
    }
   ],
   "source": [
    "Console.WriteLine(originalPlanResult);"
   ]
  }
 ],
 "metadata": {
  "language_info": {
   "name": "python"
  }
 },
 "nbformat": 4,
 "nbformat_minor": 2
}
